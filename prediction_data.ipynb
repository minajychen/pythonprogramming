{
 "cells": [
  {
   "cell_type": "code",
   "execution_count": null,
   "id": "e492ee15",
   "metadata": {},
   "outputs": [],
   "source": [
    "#jiang-ying mina chen\n",
    "#A Jupyter Notebook that runs your Part 2 code, displays results, and where you discuss your findings."
   ]
  }
 ],
 "metadata": {
  "kernelspec": {
   "display_name": "Python 3",
   "language": "python",
   "name": "python3"
  },
  "language_info": {
   "codemirror_mode": {
    "name": "ipython",
    "version": 3
   },
   "file_extension": ".py",
   "mimetype": "text/x-python",
   "name": "python",
   "nbconvert_exporter": "python",
   "pygments_lexer": "ipython3",
   "version": "3.8.8"
  }
 },
 "nbformat": 4,
 "nbformat_minor": 5
}
